{
 "cells": [
  {
   "cell_type": "code",
   "execution_count": 1,
   "metadata": {},
   "outputs": [
    {
     "data": {
      "text/plain": [
       "' \\nA script to generate the initial list of intitutions: \\n\\nThis is not to be used in production. \\n\\nAuthor: \\n\\nDan Ellis\\n'"
      ]
     },
     "execution_count": 1,
     "metadata": {},
     "output_type": "execute_result"
    }
   ],
   "source": [
    "\n",
    "\n",
    "''' \n",
    "A script to generate the initial list of intitutions: \n",
    "\n",
    "This is not to be used in production. \n",
    "\n",
    "Author: \n",
    "\n",
    "Dan Ellis\n",
    "'''"
   ]
  },
  {
   "cell_type": "code",
   "execution_count": 2,
   "metadata": {},
   "outputs": [],
   "source": [
    "import requests,json\n",
    "import urllib.parse\n",
    "\n",
    "# Strip out strange characters and insert in the desired format\n",
    "format_name = lambda n : urllib.parse.quote(n)\n",
    "# Make the API call\n",
    "url = 'https://api.ror.org/organizations?affiliation=%{}s'\n",
    "debug = False\n"
   ]
  },
  {
   "cell_type": "code",
   "execution_count": 3,
   "metadata": {},
   "outputs": [],
   "source": [
    "\n",
    "\n",
    "def ROR(name):\n",
    "\n",
    "    response = requests.get(url.format(name))\n",
    "\n",
    "    # Check if the request was successful\n",
    "    if response.status_code == 200:\n",
    "        data = response.json()\n",
    "        return data\n",
    "    else:\n",
    "        print(f\"Error: {response.status_code} - {response.text}\")\n",
    "\n"
   ]
  },
  {
   "cell_type": "code",
   "execution_count": 6,
   "metadata": {},
   "outputs": [],
   "source": [
    "instiution_file = '../../../CMIP6_CVs/CMIP6_institution_id.json'\n",
    "institution = json.load(open(instiution_file,'r')).get('institution_id')\n"
   ]
  },
  {
   "cell_type": "code",
   "execution_count": 7,
   "metadata": {},
   "outputs": [],
   "source": [
    "\n",
    "results = {}\n",
    "\n",
    "for k6,i62 in institution.items():\n",
    "\n",
    "    for i6 in i62.split(';'):\n",
    "    \n",
    "        results[f'{k6}: {i6}'] = []\n",
    "            \n",
    "        \n",
    "        i = ROR(f'{k6} {i6}').get('items')\n",
    "\n",
    "        for item in i:\n",
    "            # print ('\\n\\n\\n')\n",
    "        # item = i[0]\n",
    "            organization = item['organization']\n",
    "        \n",
    "            name = organization['name']\n",
    "            score = item['score']\n",
    "            id = organization['id']\n",
    "            established = organization['established']\n",
    "            \n",
    "            organization = item[\"organization\"]\n",
    "            aliases = item.get('aliases') or []\n",
    "            acronyms = item.get('acronyms') or []\n",
    "\n",
    "            \n",
    "            addresses = organization[\"addresses\"]\n",
    "            addr = []\n",
    "            for address in addresses:\n",
    "                longitude = address[\"lng\"]\n",
    "                latitude = address[\"lat\"]\n",
    "                city = address[\"city\"]\n",
    "                state = address[\"state\"]\n",
    "                country = organization[\"country\"][\"country_name\"]\n",
    "                address_string = f\"{city }, {state or ''}, {country} {address['state_code']or ''}\"\n",
    "                \n",
    "                \n",
    "                addr.append(dict(zip('lon lat address country city'.split(),[longitude,latitude,address_string,country,city])))\n",
    "\n",
    "\n",
    "            # Extract the relationships\n",
    "            relationships = []\n",
    "            for relationship in organization['relationships']:\n",
    "                relationship_name = relationship['label']\n",
    "                relationship_url = relationship['id']\n",
    "                relationships.append({'name': relationship_name, 'url': relationship_url})\n",
    "\n",
    "\n",
    "            # # Print the extracted information\n",
    "            # print(\"Key:\", i6)\n",
    "            # print(\"Name:\", name)\n",
    "            # print(\"AKA\", aliases, acronyms)\n",
    "            # print(\"Score:\", score)\n",
    "            # print(\"ID:\", id)\n",
    "            # print(\"Established:\", established)\n",
    "            # print('Addresses', addr)\n",
    "            \n",
    "\n",
    "            # print(\"Relationships:\")\n",
    "            # for relationship in relationships:\n",
    "            #     print(\"- Name:\", relationship['name'])\n",
    "            #     print(\"  URL:\", relationship['url'])\n",
    "\n",
    "            dummy = {\n",
    "                \"Name\": name,\n",
    "                \"Acronyms\": acronyms,\n",
    "                \"ID\": id,\n",
    "                \"Addresses\": addr[0]['city'],\n",
    "                # \"Relationships\": relationships\n",
    "            }\n",
    "        \n",
    "            results[f'{k6}: {i6}'].append(dummy)\n",
    "\n",
    "\n",
    "\n",
    "json.dump(results,open('./inst_results.json','w'), indent=4)"
   ]
  },
  {
   "cell_type": "code",
   "execution_count": 23,
   "metadata": {},
   "outputs": [],
   "source": [
    "j = institution.copy()\n",
    "for i in j:\n",
    "    j[i]={'CMIP6key':i}\n",
    "json.dump(results,open('./template.json','w'), indent=4)"
   ]
  },
  {
   "cell_type": "code",
   "execution_count": 20,
   "metadata": {},
   "outputs": [],
   "source": []
  },
  {
   "cell_type": "code",
   "execution_count": null,
   "metadata": {},
   "outputs": [],
   "source": []
  },
  {
   "cell_type": "code",
   "execution_count": null,
   "metadata": {},
   "outputs": [],
   "source": []
  }
 ],
 "metadata": {
  "kernelspec": {
   "display_name": "temp",
   "language": "python",
   "name": "python3"
  },
  "language_info": {
   "codemirror_mode": {
    "name": "ipython",
    "version": 3
   },
   "file_extension": ".py",
   "mimetype": "text/x-python",
   "name": "python",
   "nbconvert_exporter": "python",
   "pygments_lexer": "ipython3",
   "version": "3.9.16"
  },
  "orig_nbformat": 4
 },
 "nbformat": 4,
 "nbformat_minor": 2
}
